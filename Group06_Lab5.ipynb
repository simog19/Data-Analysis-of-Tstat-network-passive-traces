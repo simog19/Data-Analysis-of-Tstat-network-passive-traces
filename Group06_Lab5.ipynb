{
 "cells": [
  {
   "cell_type": "markdown",
   "id": "7523a9ea",
   "metadata": {},
   "source": [
    "# Report 5"
   ]
  },
  {
   "cell_type": "markdown",
   "id": "bcbb74d7",
   "metadata": {},
   "source": [
    "# Part 1"
   ]
  },
  {
   "cell_type": "code",
   "execution_count": 135,
   "id": "14057263",
   "metadata": {},
   "outputs": [],
   "source": [
    "import pandas as pd\n",
    "import numpy as np\n",
    "import matplotlib.pyplot as plt\n",
    "import seaborn as sns\n",
    "from sklearn.preprocessing import StandardScaler\n",
    "from sklearn.linear_model import LogisticRegression\n",
    "from sklearn.pipeline import make_pipeline\n",
    "from sklearn.model_selection import train_test_split\n",
    "from sklearn.metrics import accuracy_score\n",
    "from sklearn.preprocessing import OneHotEncoder\n",
    "from sklearn import tree\n",
    "from sklearn.metrics import confusion_matrix\n",
    "from sklearn.ensemble import RandomForestClassifier\n",
    "from sklearn.model_selection import KFold\n",
    "from sklearn.model_selection import cross_val_score\n",
    "from sklearn.metrics import f1_score\n",
    "from sklearn.model_selection import GridSearchCV\n",
    "from sklearn.linear_model import LinearRegression\n",
    "from sklearn.metrics import mean_absolute_error\n",
    "from sklearn.neighbors import KNeighborsClassifier\n",
    "from statistics import mean"
   ]
  },
  {
   "cell_type": "markdown",
   "id": "64bc0ccc",
   "metadata": {},
   "source": [
    "## 1) Data inspection"
   ]
  },
  {
   "cell_type": "code",
   "execution_count": 136,
   "id": "63935c92",
   "metadata": {},
   "outputs": [],
   "source": [
    "#reading the csv file\n",
    "df = pd.read_csv(\"/Users/simonegalota/Desktop/log_tcp_complete_classes.txt\", sep=\" \")"
   ]
  },
  {
   "cell_type": "markdown",
   "id": "2d0e1aeb",
   "metadata": {},
   "source": [
    "#### How many TCP connections (bi-directional flows) does the log contain?\n"
   ]
  },
  {
   "cell_type": "code",
   "execution_count": 137,
   "id": "70fee0e1",
   "metadata": {},
   "outputs": [
    {
     "name": "stdout",
     "output_type": "stream",
     "text": [
      "The number of total TCP Connections is: 100000\n"
     ]
    }
   ],
   "source": [
    "tot_conn = len(df)\n",
    "print(f\"The number of total TCP Connections is: {tot_conn}\")"
   ]
  },
  {
   "cell_type": "markdown",
   "id": "dce3f680",
   "metadata": {},
   "source": [
    "#### How many classes (web services) does the log contain? Can you list all of them? How many connections per web service are there?\n"
   ]
  },
  {
   "cell_type": "code",
   "execution_count": 138,
   "id": "fdecfe30",
   "metadata": {},
   "outputs": [
    {
     "name": "stdout",
     "output_type": "stream",
     "text": [
      "The classes are: ['class:google' 'class:bing' 'class:linkedin' 'class:instagram'\n",
      " 'class:youtube' 'class:netflix' 'class:spotify' 'class:facebook'\n",
      " 'class:ebay' 'class:amazon']\n",
      "The number of classes is: 10\n",
      "class:207\n",
      "class:amazon       10000\n",
      "class:bing         10000\n",
      "class:ebay         10000\n",
      "class:facebook     10000\n",
      "class:google       10000\n",
      "class:instagram    10000\n",
      "class:linkedin     10000\n",
      "class:netflix      10000\n",
      "class:spotify      10000\n",
      "class:youtube      10000\n",
      "dtype: int64\n"
     ]
    }
   ],
   "source": [
    "classLabel = df[\"class:207\"].unique()\n",
    "print(f\"The classes are: {classLabel}\")\n",
    "print(f\"The number of classes is: {len(classLabel)}\")\n",
    "\n",
    "connectionsPerService = df.groupby(\"class:207\").size().sort_values(ascending=False)\n",
    "print(connectionsPerService)"
   ]
  },
  {
   "cell_type": "markdown",
   "id": "d1fb85e4",
   "metadata": {},
   "source": [
    "#### Which of these columns do you, as a network engineer, think can help predict the service visited? Discuss the most important ones in your opinion."
   ]
  },
  {
   "cell_type": "markdown",
   "id": "ff937ca9",
   "metadata": {},
   "source": [
    "The features we selected, which we think can help predict the service, are the followings:"
   ]
  },
  {
   "cell_type": "code",
   "execution_count": 139,
   "id": "ca52ace4",
   "metadata": {},
   "outputs": [],
   "source": [
    "selected_features=['con_t:42',\n",
    " 's_pktsize1:165',\n",
    " 'c_pkts_all:3',\n",
    " 'c_rst_cnt:4',\n",
    " 'c_ack_cnt:5',\n",
    " 'c_ack_cnt_p:6',\n",
    " 'c_bytes_uniq:7',\n",
    " 'c_pkts_data:8',\n",
    " 'c_bytes_all:9',\n",
    " 'c_pkts_retx:10',\n",
    " 'c_bytes_retx:11',\n",
    " 'c_pkts_ooo:12',\n",
    " 'c_syn_cnt:13',\n",
    " 'c_fin_cnt:14',\n",
    " 's_pkts_all:17',\n",
    " 's_rst_cnt:18',\n",
    " 's_ack_cnt:19',\n",
    " 's_ack_cnt_p:20',\n",
    " 's_bytes_uniq:21',\n",
    " 's_pkts_data:22',\n",
    " 's_bytes_all:23',\n",
    " 'c_msgsize1:132', \n",
    " 's_msgsize_count:142',\n",
    " 'c_pktsize1:154',\n",
    " 'c_sit1:175',\n",
    " 's_sit1:184']"
   ]
  },
  {
   "cell_type": "markdown",
   "id": "8c98885f",
   "metadata": {},
   "source": [
    "The connection type field could be massively useful, as each service could use a different level 7 protocol, so we decided to use it to predict it. Also, the size of the packets' payloads exchanged between server and client could be a fingerprint to recognize the service used. We have to say that columns expressing number of bytes are very useful to predict the service. Because there could be a huge difference between data exchanged by client and server in different services. For instance, a service like YouTube will have a big amount of data transmitted from server to client, especially if video are seen in high quality. Instead a message based service will transmitt less data compared to YouTube, even if multimedia content are exchanged (because they are usually compressed in order to send the least amount of data).\n",
    "However, we have chosen different coloumns because with these features, the overall classification is more accurate."
   ]
  },
  {
   "cell_type": "markdown",
   "id": "704a2fd9",
   "metadata": {},
   "source": [
    "## 2) Data cleaning"
   ]
  },
  {
   "cell_type": "code",
   "execution_count": 140,
   "id": "cddc3392",
   "metadata": {},
   "outputs": [],
   "source": [
    "#First, we delete the columns of the DataFrame we cannot use for the prediction \n",
    "columns_to_delete = [\"#31#c_ip:1\", \"c_port:2\", \"s_ip:15\", \"s_port:16\", \"c_tls_SNI:116\", \"s_tls_SCN:117\", \"fqdn:127\"]\n",
    "df = df.drop(columns_to_delete, axis=1)"
   ]
  },
  {
   "cell_type": "markdown",
   "id": "bce14cac",
   "metadata": {},
   "source": [
    "## 3) Data splitting"
   ]
  },
  {
   "cell_type": "code",
   "execution_count": 141,
   "id": "d4e1c99e",
   "metadata": {},
   "outputs": [],
   "source": [
    "#Separate features and label\n",
    "X = df[selected_features]\n",
    "y = df['class:207']\n",
    "\n",
    "#split dataset into train and test sets\n",
    "(X_train, X_test, y_train, y_test )= train_test_split(X, y, test_size=0.25, random_state = 68)"
   ]
  },
  {
   "cell_type": "markdown",
   "id": "d892a0ba",
   "metadata": {},
   "source": [
    "## 4) Data preprocessing"
   ]
  },
  {
   "cell_type": "code",
   "execution_count": 142,
   "id": "3160ccd3",
   "metadata": {},
   "outputs": [],
   "source": [
    "#Separate categorical features and numerical ones; also, put the first ones in DataFrames to give to the OneHotEncoder\n",
    "#We do it both for training and test set, to be ready to use the latter in part 8\n",
    "X_train_c=X_train[['con_t:42']]\n",
    "X_train_n=X_train.drop(\"con_t:42\", axis=1)\n",
    "X_test_c=X_test[['con_t:42']]\n",
    "X_test_n=X_test.drop(\"con_t:42\", axis=1)"
   ]
  },
  {
   "cell_type": "code",
   "execution_count": 143,
   "id": "331efbcf",
   "metadata": {},
   "outputs": [],
   "source": [
    "#OneHotEncoder preprocessing on categorical features\n",
    "enc = OneHotEncoder(handle_unknown='ignore')\n",
    "enc.fit(X_train_c)\n",
    "X_train_c = enc.transform(X_train_c)\n",
    "X_test_c = enc.transform(X_test_c)"
   ]
  },
  {
   "cell_type": "code",
   "execution_count": 144,
   "id": "19ee5e8d",
   "metadata": {},
   "outputs": [],
   "source": [
    "#Rejoin categorical and numerical features, to give them all to the Standard Scaler\n",
    "df1 = pd.DataFrame(X_train_c.toarray())\n",
    "df1 = df1.reset_index(drop=True)\n",
    "df2 = pd.DataFrame(X_test_c.toarray())\n",
    "df2 = df2.reset_index(drop=True)\n",
    "X_train_n = X_train_n.reset_index(drop=True)\n",
    "X_test_n = X_test_n.reset_index(drop=True)\n",
    "df_ss_train = X_train_n.join(df1)\n",
    "df_ss_test = X_test_n.join(df2)\n",
    "\n",
    "#Standard Scaler preprocessing on all the features\n",
    "scaler = StandardScaler()\n",
    "scaler.fit(df_ss_train)\n",
    "X_train = scaler.transform(df_ss_train)\n",
    "X_test = scaler.transform(df_ss_test)"
   ]
  },
  {
   "cell_type": "markdown",
   "id": "4407582f",
   "metadata": {},
   "source": [
    "#### Comment on the process for both the one-hot encoding and scaling. How does the standard scaler work? Is that appropriate for our problem in your opinion?\n"
   ]
  },
  {
   "cell_type": "markdown",
   "id": "89574190",
   "metadata": {},
   "source": [
    "Data might behave badly if the individual features do not look like standard normally distributed data, namely a Gaussian curve with zero mean and unit variance. Hence, often we just transform the data to center it by removing the mean value of each feature, then scale it by dividing non-constant features by their standard deviation, obtaining a zero mean-value and a unit standard deviation. A Standard Scaler does exactly this, transforming input rows in order to normalize each feature and have unit standard deviation and/or zero mean.\n",
    "\n"
   ]
  },
  {
   "cell_type": "markdown",
   "id": "01c8c08a",
   "metadata": {},
   "source": [
    "## 5) Train at least two different models"
   ]
  },
  {
   "cell_type": "markdown",
   "id": "3dd0f14d",
   "metadata": {},
   "source": [
    "#### How much does it take to train the model (time in seconds), for the different algorithm and parameters? What and why there is the difference between them?"
   ]
  },
  {
   "cell_type": "code",
   "execution_count": 145,
   "id": "14a16a7b",
   "metadata": {},
   "outputs": [
    {
     "name": "stdout",
     "output_type": "stream",
     "text": [
      "1.0658152103424072\n"
     ]
    }
   ],
   "source": [
    "import time\n",
    "\n",
    "#Classification: we chose to apply the Decision Tree and Random Forest Classifiers.\n",
    "clf = tree.DecisionTreeClassifier()\n",
    "\n",
    "#We exploit the time library to compute the time required to train the two models\n",
    "start = time.time()\n",
    "clf = clf.fit(X_train, y_train.ravel())\n",
    "end = time.time()\n",
    "print(end - start)"
   ]
  },
  {
   "cell_type": "code",
   "execution_count": 146,
   "id": "c26bd428",
   "metadata": {},
   "outputs": [
    {
     "name": "stdout",
     "output_type": "stream",
     "text": [
      "1.463352918624878\n"
     ]
    }
   ],
   "source": [
    "clf2 = RandomForestClassifier(n_estimators=10)\n",
    "\n",
    "start = time.time()\n",
    "clf2 = clf2.fit(X_train, y_train.ravel())\n",
    "end = time.time()\n",
    "print(end - start)"
   ]
  },
  {
   "cell_type": "markdown",
   "id": "379218cb",
   "metadata": {},
   "source": [
    "In our specific case (decision tree vs random forest), there is a difference in terms of execution time needed because the decision tree combines some decisions, whereas a random forest combines several decision trees. Moreover, using the random forest classifier the time increases if the number of estimators is incremented."
   ]
  },
  {
   "cell_type": "markdown",
   "id": "9ebd92ce",
   "metadata": {},
   "source": [
    "## 6) Evaluate the performance of the models (on training and cross-validation)"
   ]
  },
  {
   "cell_type": "code",
   "execution_count": 147,
   "id": "9a5692c8",
   "metadata": {},
   "outputs": [
    {
     "data": {
      "text/plain": [
       "0.9511333333333334"
      ]
     },
     "execution_count": 147,
     "metadata": {},
     "output_type": "execute_result"
    }
   ],
   "source": [
    "#Accuracy score computed on the prediction of the first model (DecisionTreeClassifier)\n",
    "y_pred = clf.predict(X_train)\n",
    "accuracy_score(y_pred,y_train)"
   ]
  },
  {
   "cell_type": "code",
   "execution_count": 148,
   "id": "5806a71e",
   "metadata": {},
   "outputs": [
    {
     "name": "stdout",
     "output_type": "stream",
     "text": [
      "['class:google' 'class:bing' 'class:linkedin' 'class:instagram'\n",
      " 'class:youtube' 'class:netflix' 'class:spotify' 'class:facebook'\n",
      " 'class:ebay' 'class:amazon']\n"
     ]
    },
    {
     "data": {
      "text/plain": [
       "array([[7131,    0,    2,    1,   26,   46,    8,    0,  250,    0],\n",
       "       [   1, 7439,   11,    0,    1,   50,    2,    0,   17,    0],\n",
       "       [  10,    1, 7085,    0,   15,  105,    8,    0,  289,    5],\n",
       "       [   4,    0,    0, 7333,    1,   73,    4,   39,   71,    2],\n",
       "       [  20,    1,    0,    0, 6763,  110,    5,    0,  643,    2],\n",
       "       [   2,    0,    5,    0,   12, 7224,    9,    1,  288,    4],\n",
       "       [   3,    0,    1,    0,    1,   11, 7203,    3,  207,    1],\n",
       "       [   0,    0,    1,    1,    7,   23,    3, 7188,  326,    1],\n",
       "       [   2,    0,   13,    0,   25,  171,    0,    2, 7229,    4],\n",
       "       [   0,    0,    7,    0,    2,   72,    0,    0,  634, 6740]])"
      ]
     },
     "execution_count": 148,
     "metadata": {},
     "output_type": "execute_result"
    }
   ],
   "source": [
    "#Confusion matrix computed on the prediction of the first model (DecisionTreeClassifier)\n",
    "#labels=['google','bing', 'linkedin', 'instagram','youtube', 'netflix', 'spotify', 'facebook','ebay','amazon']\n",
    "print(classLabel)\n",
    "confusion_matrix(y_train, y_pred, labels=classLabel)"
   ]
  },
  {
   "cell_type": "code",
   "execution_count": 149,
   "id": "201372af",
   "metadata": {},
   "outputs": [
    {
     "data": {
      "text/plain": [
       "0.94936"
      ]
     },
     "execution_count": 149,
     "metadata": {},
     "output_type": "execute_result"
    }
   ],
   "source": [
    "#Accuracy score computed on the prediction of the second model (RandomForestClassifier)\n",
    "y_pred2 = clf2.predict(X_train)\n",
    "accuracy_score(y_pred2, y_train)"
   ]
  },
  {
   "cell_type": "code",
   "execution_count": 150,
   "id": "8b9dd7c1",
   "metadata": {},
   "outputs": [
    {
     "name": "stdout",
     "output_type": "stream",
     "text": [
      "['class:google' 'class:bing' 'class:linkedin' 'class:instagram'\n",
      " 'class:youtube' 'class:netflix' 'class:spotify' 'class:facebook'\n",
      " 'class:ebay' 'class:amazon']\n"
     ]
    },
    {
     "data": {
      "text/plain": [
       "array([[7121,    2,    4,    1,   30,   46,   10,    1,  246,    3],\n",
       "       [   1, 7432,   12,    0,    1,   51,    2,    0,   19,    3],\n",
       "       [  13,    1, 7088,    0,   15,  108,    8,    0,  280,    5],\n",
       "       [   5,    0,    1, 7342,    1,   73,    5,   27,   71,    2],\n",
       "       [  45,    4,    3,    0, 6725,  110,    6,    3,  643,    5],\n",
       "       [   3,    0,   10,    0,   12, 7217,   10,    2,  289,    2],\n",
       "       [   1,    2,    4,    0,    1,   15, 7195,    3,  207,    2],\n",
       "       [   1,    0,    1,   24,    8,   23,    3, 7164,  325,    1],\n",
       "       [   8,    1,   22,    0,   25,  172,    0,    2, 7195,   21],\n",
       "       [   2,    2,   12,    1,    2,   74,    0,    2,  637, 6723]])"
      ]
     },
     "execution_count": 150,
     "metadata": {},
     "output_type": "execute_result"
    }
   ],
   "source": [
    "#Confusion matrix computed on the prediction of the second model (RandomForestClassifier)\n",
    "print(classLabel)\n",
    "confusion_matrix(y_train, y_pred2, labels=classLabel)"
   ]
  },
  {
   "cell_type": "markdown",
   "id": "76a553c1",
   "metadata": {},
   "source": [
    "#### Comment on the different performance reached in each class. Which web service is easier to detect? Which one is harder? Why do you think that is?\n"
   ]
  },
  {
   "cell_type": "markdown",
   "id": "2ec86534",
   "metadata": {},
   "source": [
    "The web service easier to detect is bing.com, whereas the harder is youtube. We think that depend massively on the features selected. But after several tries, we have reached a good trade-off with the ones chosen at the ends."
   ]
  },
  {
   "cell_type": "markdown",
   "id": "48f01f73",
   "metadata": {},
   "source": [
    "### Cross validation"
   ]
  },
  {
   "cell_type": "code",
   "execution_count": 151,
   "id": "cc9d41ea",
   "metadata": {
    "scrolled": true
   },
   "outputs": [
    {
     "name": "stdout",
     "output_type": "stream",
     "text": [
      "0.8709408445481502\n",
      "50000 25000\n",
      "0.8735598220436118\n",
      "50000 25000\n",
      "0.8725887292397495\n",
      "50000 25000\n"
     ]
    }
   ],
   "source": [
    "#In the following code we implement the 3-Fold cross validation on the first model (DecisionTreeClassifier).\n",
    "#We split the training data and validation data manually, leveraging the KFold function of the sklearn.model_selection library\n",
    "#1/3 of data will be the validation set, 2/3 the training set. They're different data for each iteration.\n",
    "#In each iteration, we train the model on the training data and test it on the validation data.\n",
    "#And we compute the f1_score of the prediction, comparing it to the real labels of each validation set\n",
    "y_train = pd.DataFrame(y_train).to_numpy()\n",
    "kf = KFold(n_splits=3)\n",
    "for train_index, val_index in kf.split(X_train):\n",
    "    X_trainV, y_trainV = X_train[train_index], y_train[train_index]\n",
    "    X_val, y_val = X_train[val_index], y_train[val_index]\n",
    "    clf.fit(X_trainV, y_trainV.ravel())\n",
    "    y_pred=clf.predict(X_val)\n",
    "    print(f1_score(y_val, y_pred, average='macro'))\n",
    "    print(\"%s %s\" % (len(train_index), len(val_index)))"
   ]
  },
  {
   "cell_type": "code",
   "execution_count": 152,
   "id": "6f12aa34",
   "metadata": {
    "scrolled": true
   },
   "outputs": [
    {
     "name": "stdout",
     "output_type": "stream",
     "text": [
      "0.8769045717069943\n",
      "60000 15000\n",
      "0.8812643496593331\n",
      "60000 15000\n",
      "0.8788085082161377\n",
      "60000 15000\n",
      "0.8771063311656281\n",
      "60000 15000\n",
      "0.8777542269497106\n",
      "60000 15000\n"
     ]
    }
   ],
   "source": [
    "#Same thing, but we implement the 5-fold cross validation this time, again on the first model (DecisionTreeClassifier).\n",
    "kf = KFold(n_splits=5)\n",
    "for train_index, val_index in kf.split(X_train):\n",
    "    X_trainV, y_trainV = X_train[train_index], y_train[train_index]\n",
    "    X_val, y_val = X_train[val_index], y_train[val_index]\n",
    "    clf.fit(X_trainV, y_trainV.ravel())\n",
    "    y_pred=clf.predict(X_val)\n",
    "    print(f1_score(y_val, y_pred, average='macro'))\n",
    "    print(\"%s %s\" % (len(train_index), len(val_index)))"
   ]
  },
  {
   "cell_type": "code",
   "execution_count": 153,
   "id": "fec3455b",
   "metadata": {},
   "outputs": [
    {
     "name": "stdout",
     "output_type": "stream",
     "text": [
      "0.8825442642723947\n",
      "50000 25000\n",
      "0.8820591773933663\n",
      "50000 25000\n",
      "0.8805882653492588\n",
      "50000 25000\n"
     ]
    }
   ],
   "source": [
    "#Same process for the 3-Fold cross validation, but on the second model (RandomForestClassifier)\n",
    "kf = KFold(n_splits=3)\n",
    "for train_index, val_index in kf.split(X_train):\n",
    "    X_trainV, y_trainV = X_train[train_index], y_train[train_index]\n",
    "    X_val, y_val = X_train[val_index], y_train[val_index]\n",
    "    clf2.fit(X_trainV, y_trainV.ravel())\n",
    "    y_pred=clf2.predict(X_val)\n",
    "    print(f1_score(y_val, y_pred, average='macro'))\n",
    "    print(\"%s %s\" % (len(train_index), len(val_index)))"
   ]
  },
  {
   "cell_type": "code",
   "execution_count": 154,
   "id": "2bceae6f",
   "metadata": {},
   "outputs": [
    {
     "name": "stdout",
     "output_type": "stream",
     "text": [
      "0.8878496134090019\n",
      "60000 15000\n",
      "0.8909947695710331\n",
      "60000 15000\n",
      "0.8857012695083588\n",
      "60000 15000\n",
      "0.8848109149384088\n",
      "60000 15000\n",
      "0.8868323216725902\n",
      "60000 15000\n"
     ]
    }
   ],
   "source": [
    "#5-Fold cross validation on the second model (RandomForestClassifier)\n",
    "kf = KFold(n_splits=5)\n",
    "for train_index, val_index in kf.split(X_train):\n",
    "    X_trainV, y_trainV = X_train[train_index], y_train[train_index]\n",
    "    X_val, y_val = X_train[val_index], y_train[val_index]\n",
    "    clf2.fit(X_trainV, y_trainV.ravel())\n",
    "    y_pred=clf2.predict(X_val)\n",
    "    print(f1_score(y_val, y_pred, average='macro'))\n",
    "    print(\"%s %s\" % (len(train_index), len(val_index)))"
   ]
  },
  {
   "cell_type": "markdown",
   "id": "378fd9dc",
   "metadata": {},
   "source": [
    "#### How many samples are in each training set and test set for the 3-fold case? What about the 5-fold? Which one do you think gives a more realistic performance evaluation?"
   ]
  },
  {
   "cell_type": "markdown",
   "id": "0fc79251",
   "metadata": {},
   "source": [
    "We printed the length of the train_index and val_index (in the code above) in order to calculate how many samples there are in each sets. \n",
    "In the 3-fold case, we take 1/3 of the data as validation set and 2/3 as training set. Instead in the 5-fold case, we do training on 4/5 of the data (4/5 > 1/3), so we can suppose that it gives us more realistic perfomance evaluation."
   ]
  },
  {
   "cell_type": "markdown",
   "id": "1d29a89a",
   "metadata": {},
   "source": [
    "## 7) Tune the parameters of the models"
   ]
  },
  {
   "cell_type": "markdown",
   "id": "1266884e",
   "metadata": {},
   "source": [
    "#### Report a table (or a heatmap) with the results from the grid search. What is the mean accuracy over all folds for each combination of parameters? Which is the best combination of parameters the grid search has found? How long did the grid search take? What do you think can be a way to speed up the parameter search?"
   ]
  },
  {
   "cell_type": "code",
   "execution_count": 155,
   "id": "5ee17078",
   "metadata": {},
   "outputs": [
    {
     "name": "stdout",
     "output_type": "stream",
     "text": [
      "The best parameters are {'max_depth': 10, 'min_impurity_decrease': 0.0} with a score of 0.76\n"
     ]
    }
   ],
   "source": [
    "#We exploit the GridSearchCV function to perform the parameters tuning, which means to train the model trying all possible\n",
    "#combinations of the given parameters. The function return the best model, which we can fit on our training set and which \n",
    "#gives us the best parameters among the given ones. It's done on the DecisionTreeClassifier this time.\n",
    "param_grid_dt = {'max_depth': [2, 5, 10], 'min_impurity_decrease': [0.0, 0.2, 0.5]}\n",
    "grid_search1 = GridSearchCV(clf, param_grid_dt) # Grid search fa cross validation\n",
    "grid_search1.fit(X_train, y_train.ravel())\n",
    "print(\"The best parameters are %s with a score of %0.2f\"% (grid_search1.best_params_, grid_search1.best_score_))"
   ]
  },
  {
   "cell_type": "code",
   "execution_count": 156,
   "id": "177c185e",
   "metadata": {},
   "outputs": [
    {
     "name": "stdout",
     "output_type": "stream",
     "text": [
      "The best parameters are {'max_depth': 10, 'n_estimators': 100} with a score of 0.80\n"
     ]
    }
   ],
   "source": [
    "#Same thing, but on the RandomForestClassifier\n",
    "param_grid_rf = {'n_estimators': [10, 50, 100], 'max_depth': [2, 5, 10]}\n",
    "grid_search2 = GridSearchCV(clf2, param_grid_rf)\n",
    "grid_search2.fit(X_train, y_train.ravel())\n",
    "print(\"The best parameters are %s with a score of %0.2f\"% (grid_search2.best_params_, grid_search2.best_score_))"
   ]
  },
  {
   "cell_type": "code",
   "execution_count": 157,
   "id": "c8f37d51",
   "metadata": {
    "scrolled": false
   },
   "outputs": [
    {
     "data": {
      "image/png": "[encoded data removed]",
      "text/plain": [
       "<Figure size 576x432 with 2 Axes>"
      ]
     },
     "metadata": {
      "needs_background": "light"
     },
     "output_type": "display_data"
    }
   ],
   "source": [
    "#Heatmap with the results of the grid search for the first model.\n",
    "plt.figure(figsize=(8, 6))\n",
    "plt.subplots_adjust(left=0.2, right=0.95, bottom=0.15, top=0.95)\n",
    "C_range = np.logspace(0, 8, 9)\n",
    "gamma_range = np.logspace(0, 8, 9)\n",
    "params = grid_search1.cv_results_['params']\n",
    "scores = grid_search1.cv_results_['mean_test_score']\n",
    "df = pd.DataFrame(params)\n",
    "df[\"scores\"] = scores\n",
    "table = pd.pivot_table(df, 'scores', 'min_impurity_decrease', 'max_depth')\n",
    "heatmap = sns.heatmap(table, annot=True)"
   ]
  },
  {
   "cell_type": "code",
   "execution_count": 158,
   "id": "88035975",
   "metadata": {
    "scrolled": true
   },
   "outputs": [
    {
     "data": {
      "image/png": "[encoded data removed]",
      "text/plain": [
       "<Figure size 576x432 with 2 Axes>"
      ]
     },
     "metadata": {
      "needs_background": "light"
     },
     "output_type": "display_data"
    }
   ],
   "source": [
    "#Heatmap with the results of the grid search for the second model.\n",
    "plt.figure(figsize=(8, 6))\n",
    "plt.subplots_adjust(left=0.2, right=0.95, bottom=0.15, top=0.95)\n",
    "C_range = np.logspace(0, 8, 9)\n",
    "gamma_range = np.logspace(0, 8, 9)\n",
    "params = grid_search2.cv_results_['params']\n",
    "scores = grid_search2.cv_results_['mean_test_score']\n",
    "df = pd.DataFrame(params)\n",
    "df[\"scores\"] = scores\n",
    "table = pd.pivot_table(df, 'scores', 'n_estimators', 'max_depth')\n",
    "heatmap = sns.heatmap(table, annot=True)"
   ]
  },
  {
   "cell_type": "markdown",
   "id": "7207b5d6",
   "metadata": {},
   "source": [
    "## 8) Return the best possible model and estimate its performance on new data"
   ]
  },
  {
   "cell_type": "code",
   "execution_count": 159,
   "id": "e530ef58",
   "metadata": {},
   "outputs": [],
   "source": [
    "#Having the best parameters, we apply them to a new RandomForestClassifier and then train it on the test set.\n",
    "clf_final = RandomForestClassifier(n_estimators=50, max_depth=10)\n",
    "clf_final = clf_final.fit(X_train, y_train.ravel())\n",
    "#Now we can make the prediction on the test data.\n",
    "y_pred = clf_final.predict(X_test)"
   ]
  },
  {
   "cell_type": "code",
   "execution_count": 160,
   "id": "6594a863",
   "metadata": {},
   "outputs": [
    {
     "data": {
      "text/plain": [
       "0.79984"
      ]
     },
     "execution_count": 160,
     "metadata": {},
     "output_type": "execute_result"
    }
   ],
   "source": [
    "#Accuracy score on the prediction on test data by the final model.\n",
    "accuracy_score(y_pred, y_test)"
   ]
  },
  {
   "cell_type": "code",
   "execution_count": 161,
   "id": "bf66a62e",
   "metadata": {},
   "outputs": [
    {
     "data": {
      "text/plain": [
       "array([[1948,   60,   24,   37,  236,   31,    5,   30,  102,   63],\n",
       "       [   2, 2296,   29,    6,    4,   51,    5,    1,   41,   44],\n",
       "       [   4,    9, 1747,   93,   75,  220,    0,   70,  184,   80],\n",
       "       [  20,   11,   11, 2257,   10,   32,    8,   96,   22,    6],\n",
       "       [ 147,   41,   17,   54, 1899,   36,    1,   32,  218,   11],\n",
       "       [   4,    3,   54,   68,   26, 2165,    4,   10,  111,   10],\n",
       "       [   7,   17,  132,   56,   27,   88, 2048,   89,   85,   21],\n",
       "       [   7,   18,   45,  469,   44,   26,    4, 1728,  103,    6],\n",
       "       [   4,   70,   72,   63,   17,  108,    6,   10, 2077,  127],\n",
       "       [   9,   19,   80,   91,   57,   44,    1,   31,  382, 1831]])"
      ]
     },
     "execution_count": 161,
     "metadata": {},
     "output_type": "execute_result"
    }
   ],
   "source": [
    "#Confusion matrix on the prediction on test data by the final model.\n",
    "print(classLabel)\n",
    "confusion_matrix(y_test, y_pred, labels=classLabel)"
   ]
  },
  {
   "cell_type": "code",
   "execution_count": 162,
   "id": "40818961",
   "metadata": {},
   "outputs": [
    {
     "data": {
      "text/plain": [
       "0.8012107232368605"
      ]
     },
     "execution_count": 162,
     "metadata": {},
     "output_type": "execute_result"
    }
   ],
   "source": [
    "#f1_score on the prediction on test data by the final model.\n",
    "f1_score(y_test, y_pred, average='macro') "
   ]
  },
  {
   "cell_type": "markdown",
   "id": "d8133646",
   "metadata": {},
   "source": [
    "#### Does it perform better or worse than the training set? What about the validation sets? Comment on the results and all the process. What are the most important takeaways from doing the pipeline?"
   ]
  },
  {
   "cell_type": "markdown",
   "id": "0cb8e994",
   "metadata": {},
   "source": [
    "Obviously it performs worse than training set: in this case we have an acccuracy of 79% rather than the accuracy of 95% with the training set. Also, if compared with the validation sets the performance is worse (80% against 87%). \n",
    "At last, we can say that our Machine Learning model did not perform badly with the prediction on data which it has never seen before (test data), as the perfomance evaluation shows. The prediction is not perfect, but around 80% of data have been correctly predicted. "
   ]
  },
  {
   "cell_type": "markdown",
   "id": "669d0007",
   "metadata": {},
   "source": [
    "# Part 2"
   ]
  },
  {
   "cell_type": "code",
   "execution_count": 163,
   "id": "e0dba20a",
   "metadata": {},
   "outputs": [],
   "source": [
    "df = pd.read_csv(\"/Users/simonegalota/Desktop/log_tcp_complete_classes.txt\", sep=\" \")"
   ]
  },
  {
   "cell_type": "code",
   "execution_count": 164,
   "id": "bf1c05ee",
   "metadata": {},
   "outputs": [],
   "source": [
    "selected_features_regression=['con_t:42',\n",
    " 's_pktsize1:165',\n",
    " 'c_pkts_all:3',\n",
    " 'c_rst_cnt:4',\n",
    " 'c_ack_cnt:5',\n",
    " 'c_ack_cnt_p:6',\n",
    " 'c_bytes_uniq:7',\n",
    " 'c_pkts_data:8',\n",
    " 'c_bytes_all:9',\n",
    " 'c_pkts_retx:10',\n",
    " 'c_bytes_retx:11',\n",
    " 'c_pkts_ooo:12',\n",
    " 'c_syn_cnt:13',\n",
    " 'c_fin_cnt:14',\n",
    " 's_pkts_all:17',\n",
    " 's_rst_cnt:18',\n",
    " 's_ack_cnt:19',\n",
    " 's_ack_cnt_p:20',\n",
    " 's_bytes_uniq:21',\n",
    " 's_pkts_data:22',\n",
    " 'c_msgsize1:132', \n",
    " 's_msgsize_count:142',\n",
    " 'c_pktsize1:154',\n",
    " 'c_pktsize2:155',\n",
    " 'c_pktsize3:156',\n",
    " 'c_sit1:175',\n",
    " 's_sit1:184']"
   ]
  },
  {
   "cell_type": "code",
   "execution_count": 165,
   "id": "459c9790",
   "metadata": {},
   "outputs": [],
   "source": [
    "columns_to_delete = [\"#31#c_ip:1\", \"c_port:2\", \"s_ip:15\", \"s_port:16\", \"c_tls_SNI:116\", \"s_tls_SCN:117\", \"fqdn:127\"]\n",
    "df = df.drop(columns_to_delete, axis=1)"
   ]
  },
  {
   "cell_type": "code",
   "execution_count": 166,
   "id": "29a9e117",
   "metadata": {
    "scrolled": true
   },
   "outputs": [],
   "source": [
    "#split in training e test set\n",
    "X = df[selected_features_regression]\n",
    "y1 = df['s_bytes_all:23']\n",
    "y2 = df['s_rtt_avg:52']\n",
    "(X_train1, X_test1, y_train1, y_test1 )= train_test_split(X, y1, test_size=0.25, random_state = 0)\n",
    "(X_train2, X_test2, y_train2, y_test2 )= train_test_split(X, y2, test_size=0.25, random_state = 0)"
   ]
  },
  {
   "cell_type": "code",
   "execution_count": 167,
   "id": "bfe81420",
   "metadata": {},
   "outputs": [],
   "source": [
    "#separazione in attributi categorici e non\n",
    "X_train_c1=X_train1[['con_t:42']]\n",
    "X_train_n1=X_train1.drop(\"con_t:42\", axis=1)\n",
    "X_train_c2=X_train2[['con_t:42']]\n",
    "X_train_n2=X_train2.drop(\"con_t:42\", axis=1)\n",
    "X_test_c1=X_test1[['con_t:42']]\n",
    "X_test_n1=X_test1.drop(\"con_t:42\", axis=1)\n",
    "X_test_c2=X_test2[['con_t:42']]\n",
    "X_test_n2=X_test2.drop(\"con_t:42\", axis=1)"
   ]
  },
  {
   "cell_type": "code",
   "execution_count": 168,
   "id": "eaed1ffc",
   "metadata": {},
   "outputs": [],
   "source": [
    "#OneHotEncoder\n",
    "enc1 = OneHotEncoder(handle_unknown='ignore')\n",
    "enc1.fit(X_train_c1)\n",
    "enc2 = OneHotEncoder(handle_unknown='ignore')\n",
    "enc2.fit(X_train_c2)\n",
    "X_train_c1 = enc1.transform(X_train_c1)\n",
    "X_test_c1 = enc1.transform(X_test_c1)\n",
    "X_train_c2 = enc2.transform(X_train_c2)\n",
    "X_test_c2 = enc2.transform(X_test_c2)"
   ]
  },
  {
   "cell_type": "code",
   "execution_count": 169,
   "id": "ede9a1e4",
   "metadata": {},
   "outputs": [],
   "source": [
    "#rimettiamo i pezzi insieme\n",
    "df1 = pd.DataFrame(X_train_c1.toarray())\n",
    "df1 = df1.reset_index(drop=True)\n",
    "df2 = pd.DataFrame(X_test_c1.toarray())\n",
    "df2 = df2.reset_index(drop=True)\n",
    "X_train_n1 = X_train_n1.reset_index(drop=True)\n",
    "X_test_n1 = X_test_n1.reset_index(drop=True)\n",
    "\n",
    "df3 = pd.DataFrame(X_train_c2.toarray())\n",
    "df3 = df3.reset_index(drop=True)\n",
    "df4 = pd.DataFrame(X_test_c2.toarray())\n",
    "df4 = df4.reset_index(drop=True)\n",
    "X_train_n2 = X_train_n2.reset_index(drop=True)\n",
    "X_test_n2 = X_test_n2.reset_index(drop=True)\n",
    "\n",
    "df_ss_train1 = X_train_n1.join(df1)\n",
    "df_ss_test1 = X_test_n1.join(df2)\n",
    "df_ss_train2 = X_train_n2.join(df3)\n",
    "df_ss_test2 = X_test_n2.join(df4)"
   ]
  },
  {
   "cell_type": "code",
   "execution_count": 170,
   "id": "79924a3d",
   "metadata": {},
   "outputs": [],
   "source": [
    "#Standard Scaler\n",
    "scaler1 = StandardScaler()\n",
    "scaler1.fit(df_ss_train1)\n",
    "X_train1 = scaler1.transform(df_ss_train1)\n",
    "X_test1 = scaler1.transform(df_ss_test1)\n",
    "scaler2 = StandardScaler()\n",
    "scaler2.fit(df_ss_train2)\n",
    "X_train2 = scaler2.transform(df_ss_train2)\n",
    "X_test2 = scaler2.transform(df_ss_test2)"
   ]
  },
  {
   "cell_type": "code",
   "execution_count": 171,
   "id": "be8a6012",
   "metadata": {},
   "outputs": [],
   "source": [
    "#Linear Regression\n",
    "clf_r1 = tree.DecisionTreeRegressor()\n",
    "clf_r1.fit(X_train1, y_train1)\n",
    "y_pred1 = clf_r1.predict(X_test1)"
   ]
  },
  {
   "cell_type": "code",
   "execution_count": 172,
   "id": "aa498653",
   "metadata": {},
   "outputs": [],
   "source": [
    "clf_r2 = tree.DecisionTreeRegressor()\n",
    "clf_r2.fit(X_train2, y_train2)\n",
    "y_pred2 = clf_r2.predict(X_test2)"
   ]
  },
  {
   "cell_type": "markdown",
   "id": "0329501d",
   "metadata": {},
   "source": [
    "#### Which of the two problems gives a higher Mean Absolute Error? What is the error measured in (unit)? Which performs better in your opinion?"
   ]
  },
  {
   "cell_type": "code",
   "execution_count": 173,
   "id": "50178a03",
   "metadata": {},
   "outputs": [
    {
     "name": "stdout",
     "output_type": "stream",
     "text": [
      "The mean absolute error for s_bytes_all:23 is: 15337.19KB\n"
     ]
    }
   ],
   "source": [
    "mae1 = mean_absolute_error(y_test1, y_pred1)\n",
    "print(f\"The mean absolute error for s_bytes_all:23 is: %.2f\"% mae1+\"KB\")"
   ]
  },
  {
   "cell_type": "code",
   "execution_count": 174,
   "id": "b7740b48",
   "metadata": {},
   "outputs": [
    {
     "name": "stdout",
     "output_type": "stream",
     "text": [
      "The mean absolute error for rtt_avg:52 is: 51.61ms\n"
     ]
    }
   ],
   "source": [
    "mae2 = mean_absolute_error(y_test2, y_pred2)\n",
    "print(f\"The mean absolute error for rtt_avg:52 is: %.2f\"% mae2+\"ms\")"
   ]
  },
  {
   "cell_type": "code",
   "execution_count": 175,
   "id": "5e6108f6",
   "metadata": {},
   "outputs": [
    {
     "name": "stdout",
     "output_type": "stream",
     "text": [
      "The relative error for s_bytes_all:23 is: 10.43%\n"
     ]
    }
   ],
   "source": [
    "avg_y_test1 = mean(y_test1) #we compute the average value of the y_test1 in order to retrieve the relative error\n",
    "err1 = (mae1/avg_y_test1) * 100\n",
    "print(f\"The relative error for s_bytes_all:23 is: %.2f\"% err1+\"%\")"
   ]
  },
  {
   "cell_type": "code",
   "execution_count": 176,
   "id": "bccb4945",
   "metadata": {},
   "outputs": [
    {
     "name": "stdout",
     "output_type": "stream",
     "text": [
      "The relative error for rtt_avg:52 is: 66.92%\n"
     ]
    }
   ],
   "source": [
    "avg_y_test2 = mean(y_test2) #we compute the average value of the y_test2 in order to retrieve the relative error\n",
    "err2 = (mae2/avg_y_test2) * 100\n",
    "print(f\"The relative error for rtt_avg:52 is: %.2f\"% err2+\"%\")"
   ]
  },
  {
   "cell_type": "markdown",
   "id": "f11683c0",
   "metadata": {},
   "source": [
    "Given the two relative errors, we can say that the first one performs better."
   ]
  }
 ],
 "metadata": {
  "kernelspec": {
   "display_name": "Python 3 (ipykernel)",
   "language": "python",
   "name": "python3"
  },
  "language_info": {
   "codemirror_mode": {
    "name": "ipython",
    "version": 3
   },
   "file_extension": ".py",
   "mimetype": "text/x-python",
   "name": "python",
   "nbconvert_exporter": "python",
   "pygments_lexer": "ipython3",
   "version": "3.9.7"
  }
 },
 "nbformat": 4,
 "nbformat_minor": 5
}
